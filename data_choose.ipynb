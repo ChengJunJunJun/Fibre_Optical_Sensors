{
 "cells": [
  {
   "cell_type": "code",
   "execution_count": null,
   "metadata": {},
   "outputs": [],
   "source": [
    "import torch\n",
    "import numpy as np\n",
    "import torch.nn as nn\n",
    "from torch.utils.data import DataLoader, random_split\n",
    "from models import FBGNet , MultiTaskTransformer, PatchTST, CONFIGS\n",
    "from datas.FBG_Dataset import min_max_denormalize\n",
    "from datas import FBGDataset, z_score_normalize_samplewise, min_max_normalize\n",
    "from sklearn.metrics import confusion_matrix\n",
    "import seaborn as sns\n",
    "import matplotlib.pyplot as plt\n",
    "import wandb\n",
    "\n",
    "device = torch.device(\"cuda\" if torch.cuda.is_available() else \"cpu\")\n",
    "device"
   ]
  },
  {
   "cell_type": "code",
   "execution_count": null,
   "metadata": {},
   "outputs": [],
   "source": [
    "x_data = np.loadtxt('./Data_sets/data.txt', delimiter=',')  # (19968, 2000)\n",
    "# print(x_data.shape)\n",
    "# 步骤1：重塑数组\n",
    "x_data = x_data.reshape(-1, 2, 2000)\n",
    "# 步骤2：调整轴的顺序\n",
    "normalized_data_x = np.transpose(x_data, (0, 2, 1))\n",
    "normalized_data_x = z_score_normalize_samplewise(normalized_data_x)  # 忘记归一化了！！\n",
    "\n",
    "y = np.loadtxt('./Data_sets/label.txt', delimiter=',')  # (9984, 3)\n",
    "\n",
    "# 假设 x 和 y 是 numpy 数组，需要转换为 PyTorch 的张量\n",
    "x_tensor = torch.from_numpy(normalized_data_x).float()  # 输入数据\n",
    "y_direction_tensor = torch.from_numpy(y[:, 0]).long()\n",
    "y_position_tensor = torch.from_numpy(y[:, 1]).long()\n",
    "y_force_tensor = torch.from_numpy(y[:,2]).float()\n",
    "\n",
    "print(x_tensor.shape)\n",
    "print(y_direction_tensor.shape)\n",
    "print(y_position_tensor.shape)\n",
    "print(y_force_tensor.shape)"
   ]
  },
  {
   "cell_type": "code",
   "execution_count": 3,
   "metadata": {},
   "outputs": [],
   "source": [
    "# 创建数据集实例\n",
    "fbg_dataset = FBGDataset(x_tensor, y_direction_tensor, y_position_tensor, y_force_tensor, train=False)\n",
    "test_dataloader = DataLoader(fbg_dataset, batch_size=384, shuffle=False)\n",
    "import itertools\n",
    "\n",
    "def get_batch(dataloader, batch_idx):\n",
    "    return next(itertools.islice(dataloader, batch_idx, batch_idx + 1))\n"
   ]
  },
  {
   "cell_type": "code",
   "execution_count": null,
   "metadata": {},
   "outputs": [],
   "source": [
    "# model = MultiTaskTransformer(input_dim = 2)\n",
    "model = PatchTST(num_classes_1=25, num_classes_2=24, configs=CONFIGS)\n",
    "model.to('cuda')\n",
    "torch.compile(model) # 编译模型"
   ]
  },
  {
   "cell_type": "code",
   "execution_count": 5,
   "metadata": {},
   "outputs": [],
   "source": [
    "from sklearn.metrics import mean_squared_error, mean_absolute_error\n",
    "def test_model(test_dataloader,batch_number, model, model_path):\n",
    "    batch_N = get_batch(test_dataloader, batch_number)\n",
    "    inputs, label_direction, labels_position, labels_force = batch_N\n",
    "    # 加载模型参数\n",
    "    model.load_state_dict(torch.load(model_path))\n",
    "    # 将模型设置为评估模式\n",
    "    model.eval()\n",
    "    # 进行预测\n",
    "    with torch.no_grad():\n",
    "        direction_output,position_output, force_output = model(inputs.to(device))\n",
    "    # print(\"Real_Labels(Direction)\", label_direction)\n",
    "    # print(\"Predicted position:\", torch.argmax(direction_output, dim=1))\n",
    "    # print(\"Real_Labels(Direction)-Predicted position\",label_direction.to('cuda')-torch.argmax(direction_output, dim=1))\n",
    "    # # print(\"Real_Labels (Position):\", labels_position - 1)\n",
    "    # print(\"Predicted position:\", torch.argmax(position_output, dim=1))\n",
    "    # print(\"Real_Labels (Position)-Predicted position\",(labels_position).to('cuda')-torch.argmax(position_output, dim=1))\n",
    "    print(\"Real_Labels (Force):\", labels_force)\n",
    "    print(\"predicted_force:\", force_output.cpu().numpy())\n",
    "    Difference = labels_force.numpy() - force_output.cpu().numpy()\n",
    "    large_diff_indices = np.where(np.abs(Difference) > 0.5)[0]\n",
    "    print(\"索引位置:\", large_diff_indices)\n",
    "    print(\"对应的真实值:\", labels_force.numpy()[large_diff_indices])\n",
    "    print(\"对应的预测值:\", force_output.cpu().numpy()[large_diff_indices])\n",
    "    mse_force = mean_squared_error(labels_force.cpu().numpy(), force_output.cpu().numpy())\n",
    "    mae_force = mean_absolute_error(labels_force.cpu().numpy(), force_output.cpu().numpy())\n",
    "    print(f'MSE Force: {mse_force:.4f}, MAE Force: {mae_force:.4f}')\n",
    "    return large_diff_indices\n"
   ]
  },
  {
   "cell_type": "code",
   "execution_count": null,
   "metadata": {},
   "outputs": [],
   "source": [
    "large_diff_indices = test_model(test_dataloader,0,model,'./optical_fiber_checkpoints/model_both_normalize_newest.pth')\n"
   ]
  },
  {
   "cell_type": "code",
   "execution_count": null,
   "metadata": {},
   "outputs": [],
   "source": [
    "def data_choose(large_diff_indices,number):    \n",
    "    x_data[large_diff_indices + 384 * number] = 0\n",
    "    y[large_diff_indices + 384 * number] = 0\n",
    "    # print(x_data.shape)\n",
    "    # print(y.shape)\n",
    "    # print(x_data[large_diff_indices + 384 * number])\n",
    "    # print(y[large_diff_indices + 384 * number])\n",
    "\n",
    "\n",
    "for i in range(26):\n",
    "    large_diff_indices = test_model(test_dataloader,i,model,'./optical_fiber_checkpoints/model_both_normalize_newest.pth')\n",
    "    data_choose(large_diff_indices,i)\n"
   ]
  },
  {
   "cell_type": "code",
   "execution_count": 8,
   "metadata": {},
   "outputs": [],
   "source": [
    "x_data = x_data.reshape(-1,2000)\n",
    "np.savetxt('./Data_sets/data_choose_without_noise_0.5.txt', x_data, delimiter=',')\n",
    "np.savetxt('./Data_sets/label_choose_without_noise_0.5.txt', y, delimiter=',')"
   ]
  },
  {
   "cell_type": "code",
   "execution_count": null,
   "metadata": {},
   "outputs": [],
   "source": [
    "import numpy as np\n",
    "data_choose = np.loadtxt('./Data_sets/data_choose_without_noise_0.5.txt', delimiter=',')\n",
    "label_choose = np.loadtxt('./Data_sets/label_choose_without_noise_0.5.txt', delimiter=',')\n",
    "data_choose = np.delete(data_choose, [0,1,768,769], axis=0)\n",
    "print(data_choose.shape)\n",
    "print(label_choose.shape)"
   ]
  },
  {
   "cell_type": "code",
   "execution_count": null,
   "metadata": {},
   "outputs": [],
   "source": [
    "cleaned_arr_data_x = data_choose[~(data_choose == 0).all(axis=1)]\n",
    "cleaned_arr_label = label_choose[~(label_choose == 0).all(axis=1)]\n",
    "print(cleaned_arr_data_x.shape)\n",
    "print(cleaned_arr_label.shape)\n",
    "np.savetxt('./Data_sets/data_choose_cleaned_without_noise_0.5.txt', cleaned_arr_data_x, delimiter=',')\n",
    "np.savetxt('./Data_sets/label_choose_cleaned_without_noise_0.5.txt', cleaned_arr_label, delimiter=',')"
   ]
  },
  {
   "cell_type": "code",
   "execution_count": null,
   "metadata": {},
   "outputs": [],
   "source": []
  }
 ],
 "metadata": {
  "kernelspec": {
   "display_name": "PyTorch",
   "language": "python",
   "name": "python3"
  },
  "language_info": {
   "codemirror_mode": {
    "name": "ipython",
    "version": 3
   },
   "file_extension": ".py",
   "mimetype": "text/x-python",
   "name": "python",
   "nbconvert_exporter": "python",
   "pygments_lexer": "ipython3",
   "version": "3.10.13"
  }
 },
 "nbformat": 4,
 "nbformat_minor": 2
}
